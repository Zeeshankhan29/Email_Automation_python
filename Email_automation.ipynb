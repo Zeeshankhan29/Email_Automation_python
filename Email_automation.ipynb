{
 "cells": [
  {
   "cell_type": "code",
   "execution_count": 1,
   "id": "7074c350",
   "metadata": {},
   "outputs": [],
   "source": [
    "#Code to run the python email automation\n",
    "import os\n",
    "import smtplib,ssl\n",
    "import imghdr\n",
    "from email.message import EmailMessage\n",
    "port = 465\n",
    "smtp_server ='smtp.gmail.com'\n",
    "\n",
    "sender_email='zeeshankhan29khan@gmail.com'\n",
    "password =''\n",
    "\n",
    "reciever_email =[\"zeeshankhan29khan@gmail.com\",\"faizankhan29khan@gmail.com\"]\n",
    "\n",
    "subject ='check'\n",
    "body ='''Hi,\n",
    "\n",
    "This email is sent automatically by running python script.\n",
    "\n",
    "\n",
    "Thanks and Regards\n",
    "Zeeshan khan\n",
    "Jr.Datscientist\n",
    "\n",
    "'''\n",
    "\n",
    "em = EmailMessage()\n",
    "em['subject'] = subject\n",
    "em.set_content(body)\n",
    "\n",
    "files =['image.png']\n",
    "for file in files:\n",
    "    with open(file,'rb') as f:\n",
    "        file_name = f.name\n",
    "        file_data = f.read()\n",
    "        em.add_attachment(file_data,maintype='application',subtype='octet-stream',filename=file_name)\n",
    "\n",
    "context = ssl.create_default_context()\n",
    "with smtplib.SMTP_SSL(smtp_server,context=context) as server:\n",
    "    server.login(sender_email,password)\n",
    "    server.sendmail(sender_email,reciever_email,em.as_string())\n",
    "    \n",
    "    \n",
    "    "
   ]
  },
  {
   "cell_type": "code",
   "execution_count": 2,
   "id": "bf3ac25c",
   "metadata": {},
   "outputs": [],
   "source": [
    "#created function to automate email\n",
    "import os\n",
    "import smtplib,ssl\n",
    "import imghdr\n",
    "from email.message import EmailMessage\n",
    "def automate_mail():\n",
    "    port = 465\n",
    "    smtp_server ='smtp.gmail.com'\n",
    "\n",
    "    sender_email='zeeshankhan29khan@gmail.com'\n",
    "    password =''\n",
    "\n",
    "    reciever_email =[\"zeeshankhan29khan@gmail.com\",\"faizankhan29khan@gmail.com\"]\n",
    "\n",
    "    subject ='check'\n",
    "    body ='''Hi,\n",
    "\n",
    "    This email is sent automatically by running python script.\n",
    "\n",
    "\n",
    "    Thanks and Regards\n",
    "    Zeeshan khan\n",
    "    Jr.Datscientist\n",
    "\n",
    "    '''\n",
    "\n",
    "    em = EmailMessage()\n",
    "    em['subject'] = subject\n",
    "    em.set_content(body)\n",
    "\n",
    "    files =['image.png']\n",
    "    for file in files:\n",
    "        with open(file,'rb') as f:\n",
    "            file_name = f.name\n",
    "            file_data = f.read()\n",
    "            em.add_attachment(file_data,maintype='application',subtype='octet-stream',filename=file_name)\n",
    "\n",
    "    context = ssl.create_default_context()\n",
    "    with smtplib.SMTP_SSL(smtp_server,context=context) as server:\n",
    "        server.login(sender_email,password)\n",
    "        server.sendmail(sender_email,reciever_email,em.as_string())\n",
    "        print('Email sent')"
   ]
  },
  {
   "cell_type": "code",
   "execution_count": 5,
   "id": "d4cf4788",
   "metadata": {},
   "outputs": [
    {
     "name": "stdout",
     "output_type": "stream",
     "text": [
      "Email sent\n"
     ]
    }
   ],
   "source": [
    "automate_mail()"
   ]
  }
 ],
 "metadata": {
  "kernelspec": {
   "display_name": "email",
   "language": "python",
   "name": "python3"
  },
  "language_info": {
   "codemirror_mode": {
    "name": "ipython",
    "version": 3
   },
   "file_extension": ".py",
   "mimetype": "text/x-python",
   "name": "python",
   "nbconvert_exporter": "python",
   "pygments_lexer": "ipython3",
   "version": "3.10.8 | packaged by conda-forge | (main, Nov 24 2022, 14:07:00) [MSC v.1916 64 bit (AMD64)]"
  },
  "vscode": {
   "interpreter": {
    "hash": "af5dc0d3c1fac954f17bf2087b680c2bad47dcb3926245caa98058dd95bd3e43"
   }
  }
 },
 "nbformat": 4,
 "nbformat_minor": 5
}
